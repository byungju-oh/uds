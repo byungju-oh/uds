{
 "cells": [
  {
   "cell_type": "code",
   "execution_count": 1,
   "metadata": {},
   "outputs": [],
   "source": [
    "import numpy as np\n",
    "import torch\n",
    "from torch import nn\n",
    "import torch.nn.functional as F\n",
    "\n"
   ]
  },
  {
   "cell_type": "code",
   "execution_count": 2,
   "metadata": {},
   "outputs": [],
   "source": [
    "with open('data/anna.txt', 'r') as f:\n",
    "    text = f.read()"
   ]
  },
  {
   "cell_type": "code",
   "execution_count": 3,
   "metadata": {},
   "outputs": [
    {
     "data": {
      "text/plain": [
       "'Chapter 1\\n\\n\\nHappy families are all alike; every unhappy family is unhappy in its own\\nway.\\n\\nEverythin'"
      ]
     },
     "execution_count": 3,
     "metadata": {},
     "output_type": "execute_result"
    }
   ],
   "source": [
    "text[:100]"
   ]
  },
  {
   "cell_type": "code",
   "execution_count": 4,
   "metadata": {},
   "outputs": [],
   "source": [
    "#분리하기 set으로 중복제거하고\n",
    "chars = tuple(set(text))"
   ]
  },
  {
   "cell_type": "code",
   "execution_count": 5,
   "metadata": {},
   "outputs": [
    {
     "data": {
      "text/plain": [
       "('4',\n",
       " '%',\n",
       " '-',\n",
       " '*',\n",
       " 'k',\n",
       " 'f',\n",
       " '&',\n",
       " 'A',\n",
       " '/',\n",
       " 'P',\n",
       " 'q',\n",
       " '0',\n",
       " '3',\n",
       " 'F',\n",
       " 'L',\n",
       " ';',\n",
       " 'D',\n",
       " ' ',\n",
       " 'y',\n",
       " 'Z',\n",
       " 'j',\n",
       " ',',\n",
       " 'V',\n",
       " 's',\n",
       " 'E',\n",
       " '?',\n",
       " 'X',\n",
       " 'C',\n",
       " 'J',\n",
       " 'O',\n",
       " 'R',\n",
       " '6',\n",
       " '$',\n",
       " 'n',\n",
       " 'h',\n",
       " 'm',\n",
       " 't',\n",
       " '(',\n",
       " 'w',\n",
       " '.',\n",
       " 'H',\n",
       " 'i',\n",
       " '\"',\n",
       " 'z',\n",
       " 'Y',\n",
       " '8',\n",
       " '\\n',\n",
       " 'I',\n",
       " '2',\n",
       " '7',\n",
       " 'r',\n",
       " 'Q',\n",
       " 'd',\n",
       " '_',\n",
       " 'g',\n",
       " '!',\n",
       " '9',\n",
       " 'l',\n",
       " 'e',\n",
       " 'o',\n",
       " 'T',\n",
       " ')',\n",
       " 'S',\n",
       " ':',\n",
       " 'U',\n",
       " 'G',\n",
       " 'W',\n",
       " \"'\",\n",
       " '`',\n",
       " 'v',\n",
       " 'N',\n",
       " '1',\n",
       " 'a',\n",
       " 'M',\n",
       " '5',\n",
       " 'p',\n",
       " 'c',\n",
       " '@',\n",
       " 'K',\n",
       " 'b',\n",
       " 'B',\n",
       " 'x',\n",
       " 'u')"
      ]
     },
     "execution_count": 5,
     "metadata": {},
     "output_type": "execute_result"
    }
   ],
   "source": [
    "chars"
   ]
  },
  {
   "cell_type": "code",
   "execution_count": 6,
   "metadata": {},
   "outputs": [],
   "source": [
    "#번호 붙이기\n",
    "#key 가 숫자 value 가 글자\n",
    "int2char = dict(enumerate(chars))"
   ]
  },
  {
   "cell_type": "code",
   "execution_count": 7,
   "metadata": {},
   "outputs": [
    {
     "data": {
      "text/plain": [
       "{0: '4',\n",
       " 1: '%',\n",
       " 2: '-',\n",
       " 3: '*',\n",
       " 4: 'k',\n",
       " 5: 'f',\n",
       " 6: '&',\n",
       " 7: 'A',\n",
       " 8: '/',\n",
       " 9: 'P',\n",
       " 10: 'q',\n",
       " 11: '0',\n",
       " 12: '3',\n",
       " 13: 'F',\n",
       " 14: 'L',\n",
       " 15: ';',\n",
       " 16: 'D',\n",
       " 17: ' ',\n",
       " 18: 'y',\n",
       " 19: 'Z',\n",
       " 20: 'j',\n",
       " 21: ',',\n",
       " 22: 'V',\n",
       " 23: 's',\n",
       " 24: 'E',\n",
       " 25: '?',\n",
       " 26: 'X',\n",
       " 27: 'C',\n",
       " 28: 'J',\n",
       " 29: 'O',\n",
       " 30: 'R',\n",
       " 31: '6',\n",
       " 32: '$',\n",
       " 33: 'n',\n",
       " 34: 'h',\n",
       " 35: 'm',\n",
       " 36: 't',\n",
       " 37: '(',\n",
       " 38: 'w',\n",
       " 39: '.',\n",
       " 40: 'H',\n",
       " 41: 'i',\n",
       " 42: '\"',\n",
       " 43: 'z',\n",
       " 44: 'Y',\n",
       " 45: '8',\n",
       " 46: '\\n',\n",
       " 47: 'I',\n",
       " 48: '2',\n",
       " 49: '7',\n",
       " 50: 'r',\n",
       " 51: 'Q',\n",
       " 52: 'd',\n",
       " 53: '_',\n",
       " 54: 'g',\n",
       " 55: '!',\n",
       " 56: '9',\n",
       " 57: 'l',\n",
       " 58: 'e',\n",
       " 59: 'o',\n",
       " 60: 'T',\n",
       " 61: ')',\n",
       " 62: 'S',\n",
       " 63: ':',\n",
       " 64: 'U',\n",
       " 65: 'G',\n",
       " 66: 'W',\n",
       " 67: \"'\",\n",
       " 68: '`',\n",
       " 69: 'v',\n",
       " 70: 'N',\n",
       " 71: '1',\n",
       " 72: 'a',\n",
       " 73: 'M',\n",
       " 74: '5',\n",
       " 75: 'p',\n",
       " 76: 'c',\n",
       " 77: '@',\n",
       " 78: 'K',\n",
       " 79: 'b',\n",
       " 80: 'B',\n",
       " 81: 'x',\n",
       " 82: 'u'}"
      ]
     },
     "execution_count": 7,
     "metadata": {},
     "output_type": "execute_result"
    }
   ],
   "source": [
    "int2char"
   ]
  },
  {
   "cell_type": "code",
   "execution_count": 8,
   "metadata": {},
   "outputs": [],
   "source": [
    "# key 가 글자 value 가 숫자\n",
    "\n",
    "char2int = {ch:ii for ii, ch in int2char.items()}"
   ]
  },
  {
   "cell_type": "code",
   "execution_count": 9,
   "metadata": {},
   "outputs": [
    {
     "data": {
      "text/plain": [
       "{'4': 0,\n",
       " '%': 1,\n",
       " '-': 2,\n",
       " '*': 3,\n",
       " 'k': 4,\n",
       " 'f': 5,\n",
       " '&': 6,\n",
       " 'A': 7,\n",
       " '/': 8,\n",
       " 'P': 9,\n",
       " 'q': 10,\n",
       " '0': 11,\n",
       " '3': 12,\n",
       " 'F': 13,\n",
       " 'L': 14,\n",
       " ';': 15,\n",
       " 'D': 16,\n",
       " ' ': 17,\n",
       " 'y': 18,\n",
       " 'Z': 19,\n",
       " 'j': 20,\n",
       " ',': 21,\n",
       " 'V': 22,\n",
       " 's': 23,\n",
       " 'E': 24,\n",
       " '?': 25,\n",
       " 'X': 26,\n",
       " 'C': 27,\n",
       " 'J': 28,\n",
       " 'O': 29,\n",
       " 'R': 30,\n",
       " '6': 31,\n",
       " '$': 32,\n",
       " 'n': 33,\n",
       " 'h': 34,\n",
       " 'm': 35,\n",
       " 't': 36,\n",
       " '(': 37,\n",
       " 'w': 38,\n",
       " '.': 39,\n",
       " 'H': 40,\n",
       " 'i': 41,\n",
       " '\"': 42,\n",
       " 'z': 43,\n",
       " 'Y': 44,\n",
       " '8': 45,\n",
       " '\\n': 46,\n",
       " 'I': 47,\n",
       " '2': 48,\n",
       " '7': 49,\n",
       " 'r': 50,\n",
       " 'Q': 51,\n",
       " 'd': 52,\n",
       " '_': 53,\n",
       " 'g': 54,\n",
       " '!': 55,\n",
       " '9': 56,\n",
       " 'l': 57,\n",
       " 'e': 58,\n",
       " 'o': 59,\n",
       " 'T': 60,\n",
       " ')': 61,\n",
       " 'S': 62,\n",
       " ':': 63,\n",
       " 'U': 64,\n",
       " 'G': 65,\n",
       " 'W': 66,\n",
       " \"'\": 67,\n",
       " '`': 68,\n",
       " 'v': 69,\n",
       " 'N': 70,\n",
       " '1': 71,\n",
       " 'a': 72,\n",
       " 'M': 73,\n",
       " '5': 74,\n",
       " 'p': 75,\n",
       " 'c': 76,\n",
       " '@': 77,\n",
       " 'K': 78,\n",
       " 'b': 79,\n",
       " 'B': 80,\n",
       " 'x': 81,\n",
       " 'u': 82}"
      ]
     },
     "execution_count": 9,
     "metadata": {},
     "output_type": "execute_result"
    }
   ],
   "source": [
    "char2int"
   ]
  },
  {
   "cell_type": "code",
   "execution_count": 10,
   "metadata": {},
   "outputs": [],
   "source": [
    "#글자들을 숫자로 바꾼다\n",
    "encoded = np.array([char2int[ch] for ch in text])"
   ]
  },
  {
   "cell_type": "code",
   "execution_count": 11,
   "metadata": {},
   "outputs": [
    {
     "data": {
      "text/plain": [
       "array([27, 34, 72, 75, 36, 58, 50, 17, 71, 46, 46, 46, 40, 72, 75, 75, 18,\n",
       "       17,  5, 72, 35, 41, 57, 41, 58, 23, 17, 72, 50, 58, 17, 72, 57, 57,\n",
       "       17, 72, 57, 41,  4, 58, 15, 17, 58, 69, 58, 50, 18, 17, 82, 33, 34,\n",
       "       72, 75, 75, 18, 17,  5, 72, 35, 41, 57, 18, 17, 41, 23, 17, 82, 33,\n",
       "       34, 72, 75, 75, 18, 17, 41, 33, 17, 41, 36, 23, 17, 59, 38, 33, 46,\n",
       "       38, 72, 18, 39, 46, 46, 24, 69, 58, 50, 18, 36, 34, 41, 33])"
      ]
     },
     "execution_count": 11,
     "metadata": {},
     "output_type": "execute_result"
    }
   ],
   "source": [
    "encoded[:100]"
   ]
  },
  {
   "cell_type": "code",
   "execution_count": 12,
   "metadata": {},
   "outputs": [],
   "source": [
    "def one_hot_encode(arr, n_labels):\n",
    "    \n",
    "    # Initialize the the encoded array\n",
    "    one_hot = np.zeros((arr.size, n_labels), dtype=np.float32)\n",
    "    \n",
    "    # Fill the appropriate elements with ones\n",
    "    one_hot[np.arange(one_hot.shape[0]), arr.flatten()] = 1.\n",
    "    \n",
    "    # Finally reshape it to get back to the original array\n",
    "    one_hot = one_hot.reshape((*arr.shape, n_labels))\n",
    "    \n",
    "    return one_hot"
   ]
  },
  {
   "cell_type": "code",
   "execution_count": 13,
   "metadata": {},
   "outputs": [
    {
     "name": "stdout",
     "output_type": "stream",
     "text": [
      "[[[0. 0. 0. 1. 0. 0. 0. 0.]\n",
      "  [0. 0. 0. 0. 0. 1. 0. 0.]\n",
      "  [0. 1. 0. 0. 0. 0. 0. 0.]]]\n"
     ]
    }
   ],
   "source": [
    "test_seq = np.array([[3, 5, 1]])\n",
    "one_hot = one_hot_encode(test_seq, 8)\n",
    "\n",
    "print(one_hot)"
   ]
  },
  {
   "cell_type": "code",
   "execution_count": null,
   "metadata": {},
   "outputs": [],
   "source": []
  }
 ],
 "metadata": {
  "kernelspec": {
   "display_name": "Python 3",
   "language": "python",
   "name": "python3"
  },
  "language_info": {
   "codemirror_mode": {
    "name": "ipython",
    "version": 3
   },
   "file_extension": ".py",
   "mimetype": "text/x-python",
   "name": "python",
   "nbconvert_exporter": "python",
   "pygments_lexer": "ipython3",
   "version": "3.7.6"
  }
 },
 "nbformat": 4,
 "nbformat_minor": 4
}
