{
 "cells": [
  {
   "cell_type": "code",
   "execution_count": 4,
   "metadata": {},
   "outputs": [],
   "source": [
    "import numpy as np\n",
    "import torch\n",
    "from torch import nn\n",
    "import torch.nn.functional as F\n",
    "\n"
   ]
  },
  {
   "cell_type": "code",
   "execution_count": 6,
   "metadata": {},
   "outputs": [],
   "source": [
    "with open('data/anna.txt', 'r') as f:\n",
    "    text = f.read()"
   ]
  },
  {
   "cell_type": "code",
   "execution_count": 8,
   "metadata": {},
   "outputs": [
    {
     "data": {
      "text/plain": [
       "'Chapter 1\\n\\n\\nHappy families are all alike; every unhappy family is unhappy in its own\\nway.\\n\\nEverythin'"
      ]
     },
     "execution_count": 8,
     "metadata": {},
     "output_type": "execute_result"
    }
   ],
   "source": [
    "text[:100]"
   ]
  },
  {
   "cell_type": "code",
   "execution_count": 9,
   "metadata": {},
   "outputs": [],
   "source": [
    "#분리하기 set으로 중복제거하고\n",
    "chars = tuple(set(text))"
   ]
  },
  {
   "cell_type": "code",
   "execution_count": 10,
   "metadata": {},
   "outputs": [
    {
     "data": {
      "text/plain": [
       "('f',\n",
       " 'q',\n",
       " '/',\n",
       " 'y',\n",
       " '7',\n",
       " 'i',\n",
       " 'v',\n",
       " '6',\n",
       " 'V',\n",
       " '&',\n",
       " 'C',\n",
       " '$',\n",
       " 'Y',\n",
       " 'U',\n",
       " 'l',\n",
       " '_',\n",
       " '*',\n",
       " 'N',\n",
       " 'S',\n",
       " 'H',\n",
       " 'Q',\n",
       " '2',\n",
       " 'M',\n",
       " 'D',\n",
       " 'R',\n",
       " 'e',\n",
       " '-',\n",
       " 'o',\n",
       " 'p',\n",
       " 'E',\n",
       " 'I',\n",
       " 'x',\n",
       " 'w',\n",
       " 'K',\n",
       " 'A',\n",
       " 'T',\n",
       " \"'\",\n",
       " 'O',\n",
       " '4',\n",
       " ')',\n",
       " 'G',\n",
       " 'k',\n",
       " 'n',\n",
       " '9',\n",
       " 'L',\n",
       " 'c',\n",
       " '1',\n",
       " 'B',\n",
       " ':',\n",
       " 'P',\n",
       " ';',\n",
       " 'g',\n",
       " 'r',\n",
       " '5',\n",
       " '!',\n",
       " '%',\n",
       " ',',\n",
       " '0',\n",
       " 'h',\n",
       " 'W',\n",
       " 'j',\n",
       " 'u',\n",
       " 'X',\n",
       " '?',\n",
       " 'd',\n",
       " '(',\n",
       " '8',\n",
       " 's',\n",
       " 't',\n",
       " ' ',\n",
       " '\"',\n",
       " '.',\n",
       " 'b',\n",
       " '@',\n",
       " 'Z',\n",
       " 'm',\n",
       " '`',\n",
       " 'a',\n",
       " 'z',\n",
       " 'F',\n",
       " '\\n',\n",
       " 'J',\n",
       " '3')"
      ]
     },
     "execution_count": 10,
     "metadata": {},
     "output_type": "execute_result"
    }
   ],
   "source": [
    "chars"
   ]
  },
  {
   "cell_type": "code",
   "execution_count": 11,
   "metadata": {},
   "outputs": [],
   "source": [
    "#번호 붙이기\n",
    "#key 가 숫자 value 가 글자\n",
    "int2char = dict(enumerate(chars))"
   ]
  },
  {
   "cell_type": "code",
   "execution_count": 13,
   "metadata": {},
   "outputs": [
    {
     "data": {
      "text/plain": [
       "{0: 'f',\n",
       " 1: 'q',\n",
       " 2: '/',\n",
       " 3: 'y',\n",
       " 4: '7',\n",
       " 5: 'i',\n",
       " 6: 'v',\n",
       " 7: '6',\n",
       " 8: 'V',\n",
       " 9: '&',\n",
       " 10: 'C',\n",
       " 11: '$',\n",
       " 12: 'Y',\n",
       " 13: 'U',\n",
       " 14: 'l',\n",
       " 15: '_',\n",
       " 16: '*',\n",
       " 17: 'N',\n",
       " 18: 'S',\n",
       " 19: 'H',\n",
       " 20: 'Q',\n",
       " 21: '2',\n",
       " 22: 'M',\n",
       " 23: 'D',\n",
       " 24: 'R',\n",
       " 25: 'e',\n",
       " 26: '-',\n",
       " 27: 'o',\n",
       " 28: 'p',\n",
       " 29: 'E',\n",
       " 30: 'I',\n",
       " 31: 'x',\n",
       " 32: 'w',\n",
       " 33: 'K',\n",
       " 34: 'A',\n",
       " 35: 'T',\n",
       " 36: \"'\",\n",
       " 37: 'O',\n",
       " 38: '4',\n",
       " 39: ')',\n",
       " 40: 'G',\n",
       " 41: 'k',\n",
       " 42: 'n',\n",
       " 43: '9',\n",
       " 44: 'L',\n",
       " 45: 'c',\n",
       " 46: '1',\n",
       " 47: 'B',\n",
       " 48: ':',\n",
       " 49: 'P',\n",
       " 50: ';',\n",
       " 51: 'g',\n",
       " 52: 'r',\n",
       " 53: '5',\n",
       " 54: '!',\n",
       " 55: '%',\n",
       " 56: ',',\n",
       " 57: '0',\n",
       " 58: 'h',\n",
       " 59: 'W',\n",
       " 60: 'j',\n",
       " 61: 'u',\n",
       " 62: 'X',\n",
       " 63: '?',\n",
       " 64: 'd',\n",
       " 65: '(',\n",
       " 66: '8',\n",
       " 67: 's',\n",
       " 68: 't',\n",
       " 69: ' ',\n",
       " 70: '\"',\n",
       " 71: '.',\n",
       " 72: 'b',\n",
       " 73: '@',\n",
       " 74: 'Z',\n",
       " 75: 'm',\n",
       " 76: '`',\n",
       " 77: 'a',\n",
       " 78: 'z',\n",
       " 79: 'F',\n",
       " 80: '\\n',\n",
       " 81: 'J',\n",
       " 82: '3'}"
      ]
     },
     "execution_count": 13,
     "metadata": {},
     "output_type": "execute_result"
    }
   ],
   "source": [
    "int2char"
   ]
  },
  {
   "cell_type": "code",
   "execution_count": 14,
   "metadata": {},
   "outputs": [],
   "source": [
    "# key 가 글자 value 가 숫자\n",
    "\n",
    "char2int = {ch:ii for ii, ch in int2char.items()}"
   ]
  },
  {
   "cell_type": "code",
   "execution_count": 15,
   "metadata": {},
   "outputs": [
    {
     "data": {
      "text/plain": [
       "{'f': 0,\n",
       " 'q': 1,\n",
       " '/': 2,\n",
       " 'y': 3,\n",
       " '7': 4,\n",
       " 'i': 5,\n",
       " 'v': 6,\n",
       " '6': 7,\n",
       " 'V': 8,\n",
       " '&': 9,\n",
       " 'C': 10,\n",
       " '$': 11,\n",
       " 'Y': 12,\n",
       " 'U': 13,\n",
       " 'l': 14,\n",
       " '_': 15,\n",
       " '*': 16,\n",
       " 'N': 17,\n",
       " 'S': 18,\n",
       " 'H': 19,\n",
       " 'Q': 20,\n",
       " '2': 21,\n",
       " 'M': 22,\n",
       " 'D': 23,\n",
       " 'R': 24,\n",
       " 'e': 25,\n",
       " '-': 26,\n",
       " 'o': 27,\n",
       " 'p': 28,\n",
       " 'E': 29,\n",
       " 'I': 30,\n",
       " 'x': 31,\n",
       " 'w': 32,\n",
       " 'K': 33,\n",
       " 'A': 34,\n",
       " 'T': 35,\n",
       " \"'\": 36,\n",
       " 'O': 37,\n",
       " '4': 38,\n",
       " ')': 39,\n",
       " 'G': 40,\n",
       " 'k': 41,\n",
       " 'n': 42,\n",
       " '9': 43,\n",
       " 'L': 44,\n",
       " 'c': 45,\n",
       " '1': 46,\n",
       " 'B': 47,\n",
       " ':': 48,\n",
       " 'P': 49,\n",
       " ';': 50,\n",
       " 'g': 51,\n",
       " 'r': 52,\n",
       " '5': 53,\n",
       " '!': 54,\n",
       " '%': 55,\n",
       " ',': 56,\n",
       " '0': 57,\n",
       " 'h': 58,\n",
       " 'W': 59,\n",
       " 'j': 60,\n",
       " 'u': 61,\n",
       " 'X': 62,\n",
       " '?': 63,\n",
       " 'd': 64,\n",
       " '(': 65,\n",
       " '8': 66,\n",
       " 's': 67,\n",
       " 't': 68,\n",
       " ' ': 69,\n",
       " '\"': 70,\n",
       " '.': 71,\n",
       " 'b': 72,\n",
       " '@': 73,\n",
       " 'Z': 74,\n",
       " 'm': 75,\n",
       " '`': 76,\n",
       " 'a': 77,\n",
       " 'z': 78,\n",
       " 'F': 79,\n",
       " '\\n': 80,\n",
       " 'J': 81,\n",
       " '3': 82}"
      ]
     },
     "execution_count": 15,
     "metadata": {},
     "output_type": "execute_result"
    }
   ],
   "source": [
    "char2int"
   ]
  },
  {
   "cell_type": "code",
   "execution_count": 16,
   "metadata": {},
   "outputs": [],
   "source": [
    "#글자들을 숫자로 바꾼다\n",
    "encoded = np.array([char2int[ch] for ch in text])"
   ]
  },
  {
   "cell_type": "code",
   "execution_count": 18,
   "metadata": {},
   "outputs": [
    {
     "data": {
      "text/plain": [
       "array([10, 58, 77, 28, 68, 25, 52, 69, 46, 80, 80, 80, 19, 77, 28, 28,  3,\n",
       "       69,  0, 77, 75,  5, 14,  5, 25, 67, 69, 77, 52, 25, 69, 77, 14, 14,\n",
       "       69, 77, 14,  5, 41, 25, 50, 69, 25,  6, 25, 52,  3, 69, 61, 42, 58,\n",
       "       77, 28, 28,  3, 69,  0, 77, 75,  5, 14,  3, 69,  5, 67, 69, 61, 42,\n",
       "       58, 77, 28, 28,  3, 69,  5, 42, 69,  5, 68, 67, 69, 27, 32, 42, 80,\n",
       "       32, 77,  3, 71, 80, 80, 29,  6, 25, 52,  3, 68, 58,  5, 42])"
      ]
     },
     "execution_count": 18,
     "metadata": {},
     "output_type": "execute_result"
    }
   ],
   "source": [
    "encoded[:100]"
   ]
  },
  {
   "cell_type": "code",
   "execution_count": null,
   "metadata": {},
   "outputs": [],
   "source": []
  }
 ],
 "metadata": {
  "kernelspec": {
   "display_name": "Python 3",
   "language": "python",
   "name": "python3"
  },
  "language_info": {
   "codemirror_mode": {
    "name": "ipython",
    "version": 3
   },
   "file_extension": ".py",
   "mimetype": "text/x-python",
   "name": "python",
   "nbconvert_exporter": "python",
   "pygments_lexer": "ipython3",
   "version": "3.7.6"
  }
 },
 "nbformat": 4,
 "nbformat_minor": 4
}
